{
 "cells": [
  {
   "cell_type": "code",
   "execution_count": 1,
   "metadata": {},
   "outputs": [
    {
     "name": "stderr",
     "output_type": "stream",
     "text": [
      "D:\\Anaconda3\\envs\\tensorFlow\\lib\\site-packages\\h5py\\__init__.py:36: FutureWarning: Conversion of the second argument of issubdtype from `float` to `np.floating` is deprecated. In future, it will be treated as `np.float64 == np.dtype(float).type`.\n",
      "  from ._conv import register_converters as _register_converters\n",
      "Using TensorFlow backend.\n"
     ]
    }
   ],
   "source": [
    "from keras.layers import Conv2D, UpSampling2D, InputLayer, Conv2DTranspose\n",
    "from keras.layers import Activation, Dense, Dropout, Flatten\n",
    "from keras.layers.normalization import BatchNormalization\n",
    "from keras.models import Sequential\n",
    "from keras.preprocessing.image import ImageDataGenerator, array_to_img, img_to_array, load_img\n",
    "from skimage.color import rgb2lab, lab2rgb, rgb2gray, xyz2lab\n",
    "from skimage.io import imsave\n",
    "import numpy as np\n",
    "import os\n",
    "import random\n",
    "import tensorflow as tf"
   ]
  },
  {
   "cell_type": "code",
   "execution_count": 2,
   "metadata": {},
   "outputs": [],
   "source": [
    "# Get images\n",
    "image = img_to_array(load_img('train/timg4.jpg'))\n",
    "image = np.array(image, dtype=float)"
   ]
  },
  {
   "cell_type": "code",
   "execution_count": 3,
   "metadata": {},
   "outputs": [
    {
     "name": "stderr",
     "output_type": "stream",
     "text": [
      "D:\\Anaconda3\\envs\\tensorFlow\\lib\\site-packages\\skimage\\transform\\_warps.py:84: UserWarning: The default mode, 'constant', will be changed to 'reflect' in skimage 0.15.\n",
      "  warn(\"The default mode, 'constant', will be changed to 'reflect' in \"\n"
     ]
    }
   ],
   "source": [
    "from skimage import transform,data\n",
    "image = transform.resize(image, (400, 400))"
   ]
  },
  {
   "cell_type": "code",
   "execution_count": 4,
   "metadata": {},
   "outputs": [],
   "source": [
    "X = rgb2lab(1.0/255*image)[:,:,0]\n",
    "Y = rgb2lab(1.0/255*image)[:,:,1:]\n",
    "Y /= 128\n",
    "X = X.reshape(1, 400, 400, 1)\n",
    "Y = Y.reshape(1, 400, 400, 2)"
   ]
  },
  {
   "cell_type": "code",
   "execution_count": 5,
   "metadata": {},
   "outputs": [],
   "source": [
    "# Building the neural network\n",
    "model = Sequential()\n",
    "model.add(InputLayer(input_shape=(None, None, 1)))\n",
    "model.add(Conv2D(8, (3, 3), activation='relu', padding='same', strides=2))\n",
    "model.add(Conv2D(8, (3, 3), activation='relu', padding='same'))\n",
    "model.add(Conv2D(16, (3, 3), activation='relu', padding='same'))\n",
    "model.add(Conv2D(16, (3, 3), activation='relu', padding='same', strides=2))\n",
    "model.add(Conv2D(32, (3, 3), activation='relu', padding='same'))\n",
    "model.add(Conv2D(32, (3, 3), activation='relu', padding='same', strides=2))\n",
    "model.add(UpSampling2D((2, 2)))\n",
    "model.add(Conv2D(32, (3, 3), activation='relu', padding='same'))\n",
    "model.add(UpSampling2D((2, 2)))\n",
    "model.add(Conv2D(16, (3, 3), activation='relu', padding='same'))\n",
    "model.add(UpSampling2D((2, 2)))\n",
    "model.add(Conv2D(2, (3, 3), activation='tanh', padding='same'))"
   ]
  },
  {
   "cell_type": "code",
   "execution_count": 6,
   "metadata": {},
   "outputs": [],
   "source": [
    "# Finish model\n",
    "model.compile(optimizer='adam',loss='mse')"
   ]
  },
  {
   "cell_type": "code",
   "execution_count": null,
   "metadata": {
    "scrolled": true
   },
   "outputs": [
    {
     "name": "stdout",
     "output_type": "stream",
     "text": [
      "Epoch 1/1000\n",
      "1/1 [==============================] - 4s 4s/step - loss: 0.0378\n",
      "Epoch 2/1000\n",
      "1/1 [==============================] - 2s 2s/step - loss: 0.0117\n",
      "Epoch 3/1000\n",
      "1/1 [==============================] - 2s 2s/step - loss: 0.0073\n",
      "Epoch 4/1000\n",
      "1/1 [==============================] - 2s 2s/step - loss: 0.0062\n",
      "Epoch 5/1000\n",
      "1/1 [==============================] - 1s 1s/step - loss: 0.0060\n",
      "Epoch 6/1000\n",
      "1/1 [==============================] - 1s 1s/step - loss: 0.0059\n",
      "Epoch 7/1000\n",
      "1/1 [==============================] - 1s 1s/step - loss: 0.0060\n",
      "Epoch 8/1000\n",
      "1/1 [==============================] - 1s 1s/step - loss: 0.0060\n",
      "Epoch 9/1000\n",
      "1/1 [==============================] - 1s 1s/step - loss: 0.0060\n",
      "Epoch 10/1000\n",
      "1/1 [==============================] - 1s 1s/step - loss: 0.0059\n",
      "Epoch 11/1000\n",
      "1/1 [==============================] - 1s 1s/step - loss: 0.0059\n",
      "Epoch 12/1000\n",
      "1/1 [==============================] - 2s 2s/step - loss: 0.0058\n",
      "Epoch 13/1000\n",
      "1/1 [==============================] - 2s 2s/step - loss: 0.0057\n",
      "Epoch 14/1000\n",
      "1/1 [==============================] - 1s 1s/step - loss: 0.0056\n",
      "Epoch 15/1000\n",
      "1/1 [==============================] - 1s 1s/step - loss: 0.0056\n",
      "Epoch 16/1000\n",
      "1/1 [==============================] - 1s 1s/step - loss: 0.0055\n",
      "Epoch 17/1000\n",
      "1/1 [==============================] - 1s 1s/step - loss: 0.0054\n",
      "Epoch 18/1000\n",
      "1/1 [==============================] - 1s 1s/step - loss: 0.0053\n",
      "Epoch 19/1000\n",
      "1/1 [==============================] - 1s 1s/step - loss: 0.0053\n",
      "Epoch 20/1000\n",
      "1/1 [==============================] - 1s 1s/step - loss: 0.0052\n",
      "Epoch 21/1000\n",
      "1/1 [==============================] - 1s 1s/step - loss: 0.0051\n",
      "Epoch 22/1000\n",
      "1/1 [==============================] - 1s 1s/step - loss: 0.0050\n",
      "Epoch 23/1000\n",
      "1/1 [==============================] - 1s 1s/step - loss: 0.0049\n",
      "Epoch 24/1000\n",
      "1/1 [==============================] - 1s 1s/step - loss: 0.0048\n",
      "Epoch 25/1000\n",
      "1/1 [==============================] - 1s 1s/step - loss: 0.0046\n",
      "Epoch 26/1000\n",
      "1/1 [==============================] - 1s 1s/step - loss: 0.0045\n",
      "Epoch 27/1000\n",
      "1/1 [==============================] - 1s 1s/step - loss: 0.0043\n",
      "Epoch 28/1000\n",
      "1/1 [==============================] - 1s 1s/step - loss: 0.0041\n",
      "Epoch 29/1000\n",
      "1/1 [==============================] - 1s 1s/step - loss: 0.0039\n",
      "Epoch 30/1000\n",
      "1/1 [==============================] - 1s 1s/step - loss: 0.0037\n",
      "Epoch 31/1000\n",
      "1/1 [==============================] - 1s 1s/step - loss: 0.0035\n",
      "Epoch 32/1000\n",
      "1/1 [==============================] - 1s 1s/step - loss: 0.0033\n",
      "Epoch 33/1000\n",
      "1/1 [==============================] - 2s 2s/step - loss: 0.0032\n",
      "Epoch 34/1000\n",
      "1/1 [==============================] - 1s 1s/step - loss: 0.0031\n",
      "Epoch 35/1000\n",
      "1/1 [==============================] - 1s 1s/step - loss: 0.0031\n",
      "Epoch 36/1000\n",
      "1/1 [==============================] - 1s 1s/step - loss: 0.0030\n",
      "Epoch 37/1000\n",
      "1/1 [==============================] - 1s 1s/step - loss: 0.0030\n",
      "Epoch 38/1000\n",
      "1/1 [==============================] - 1s 1s/step - loss: 0.0029\n",
      "Epoch 39/1000\n",
      "1/1 [==============================] - 1s 1s/step - loss: 0.0029\n",
      "Epoch 40/1000\n",
      "1/1 [==============================] - 1s 1s/step - loss: 0.0029\n",
      "Epoch 41/1000\n",
      "1/1 [==============================] - 1s 1s/step - loss: 0.0028\n",
      "Epoch 42/1000\n",
      "1/1 [==============================] - 2s 2s/step - loss: 0.0028\n",
      "Epoch 43/1000\n",
      "1/1 [==============================] - 2s 2s/step - loss: 0.0028\n",
      "Epoch 44/1000\n",
      "1/1 [==============================] - 1s 1s/step - loss: 0.0027\n",
      "Epoch 45/1000\n",
      "1/1 [==============================] - 1s 1s/step - loss: 0.0027\n",
      "Epoch 46/1000\n",
      "1/1 [==============================] - 1s 1s/step - loss: 0.0027\n",
      "Epoch 47/1000\n",
      "1/1 [==============================] - 2s 2s/step - loss: 0.0026\n",
      "Epoch 48/1000\n",
      "1/1 [==============================] - 1s 1s/step - loss: 0.0026\n",
      "Epoch 49/1000\n",
      "1/1 [==============================] - 1s 1s/step - loss: 0.0026\n",
      "Epoch 50/1000\n",
      "1/1 [==============================] - 1s 1s/step - loss: 0.0026\n",
      "Epoch 51/1000\n",
      "1/1 [==============================] - 1s 1s/step - loss: 0.0026\n",
      "Epoch 52/1000\n",
      "1/1 [==============================] - 1s 1s/step - loss: 0.0026\n",
      "Epoch 53/1000\n"
     ]
    }
   ],
   "source": [
    "model.fit(x=X, \n",
    "    y=Y,\n",
    "    batch_size=1,\n",
    "    epochs=1000)"
   ]
  },
  {
   "cell_type": "code",
   "execution_count": 7,
   "metadata": {},
   "outputs": [
    {
     "name": "stdout",
     "output_type": "stream",
     "text": [
      "1/1 [==============================] - 0s 333ms/step\n",
      "0.00039919823757372797\n"
     ]
    },
    {
     "name": "stderr",
     "output_type": "stream",
     "text": [
      "D:\\Anaconda3\\envs\\tensorFlow\\lib\\site-packages\\skimage\\util\\dtype.py:122: UserWarning: Possible precision loss when converting from float64 to uint8\n",
      "  .format(dtypeobj_in, dtypeobj_out))\n",
      "D:\\Anaconda3\\envs\\tensorFlow\\lib\\site-packages\\skimage\\util\\dtype.py:122: UserWarning: Possible precision loss when converting from float64 to uint16\n",
      "  .format(dtypeobj_in, dtypeobj_out))\n"
     ]
    }
   ],
   "source": [
    "print(model.evaluate(X, Y, batch_size=1))\n",
    "output = model.predict(X)\n",
    "output *= 128\n",
    "# Output colorizations\n",
    "cur = np.zeros((400, 400, 3))\n",
    "cur[:,:,0] = X[0][:,:,0]\n",
    "cur[:,:,1:] = output[0]\n",
    "imsave(\"img_result.png\", lab2rgb(cur))\n",
    "imsave(\"img_gray_version.png\", rgb2gray(lab2rgb(cur)))"
   ]
  },
  {
   "cell_type": "markdown",
   "metadata": {},
   "source": [
    "## 上色"
   ]
  },
  {
   "cell_type": "code",
   "execution_count": 8,
   "metadata": {},
   "outputs": [],
   "source": [
    "from skimage import transform,data\n",
    "import matplotlib.pyplot as plt\n"
   ]
  },
  {
   "cell_type": "code",
   "execution_count": 9,
   "metadata": {},
   "outputs": [],
   "source": [
    "image_x = img_to_array(load_img('test/img3.jpg'))\n",
    "image_x = np.array(image_x, dtype=float)"
   ]
  },
  {
   "cell_type": "code",
   "execution_count": 16,
   "metadata": {},
   "outputs": [
    {
     "name": "stdout",
     "output_type": "stream",
     "text": [
      "图片原始维度为600,600\n"
     ]
    }
   ],
   "source": [
    "ll_1 = len(image_x[1])\n",
    "ll_2 = len(image_x[2])\n",
    "print(\"图片原始维度为({},{})\".format(ll_1, ll_2))"
   ]
  },
  {
   "cell_type": "code",
   "execution_count": 17,
   "metadata": {},
   "outputs": [
    {
     "name": "stderr",
     "output_type": "stream",
     "text": [
      "D:\\Anaconda3\\envs\\tensorFlow\\lib\\site-packages\\skimage\\transform\\_warps.py:84: UserWarning: The default mode, 'constant', will be changed to 'reflect' in skimage 0.15.\n",
      "  warn(\"The default mode, 'constant', will be changed to 'reflect' in \"\n"
     ]
    }
   ],
   "source": [
    "dst = transform.resize(image_x, (400, 400))"
   ]
  },
  {
   "cell_type": "code",
   "execution_count": 18,
   "metadata": {},
   "outputs": [
    {
     "name": "stderr",
     "output_type": "stream",
     "text": [
      "Clipping input data to the valid range for imshow with RGB data ([0..1] for floats or [0..255] for integers).\n",
      "Clipping input data to the valid range for imshow with RGB data ([0..1] for floats or [0..255] for integers).\n"
     ]
    },
    {
     "data": {
      "image/png": "[encoded data removed]",
      "text/plain": [
       "<Figure size 432x288 with 2 Axes>"
      ]
     },
     "metadata": {},
     "output_type": "display_data"
    }
   ],
   "source": [
    "#画图\n",
    "plt.figure('resize')\n",
    "\n",
    "plt.subplot(121)\n",
    "plt.title('before resize')\n",
    "plt.imshow(image_x,plt.cm.gray)\n",
    "\n",
    "plt.subplot(122)\n",
    "plt.title('before resize')\n",
    "plt.imshow(dst,plt.cm.gray)\n",
    "\n",
    "plt.show()"
   ]
  },
  {
   "cell_type": "code",
   "execution_count": 19,
   "metadata": {},
   "outputs": [],
   "source": [
    "X_2 = rgb2lab(1.0/255*dst)[:,:,0]\n",
    "Y_2 = rgb2lab(1.0/255*dst)[:,:,1:]\n",
    "Y_2 /= 128\n",
    "X_2 = X_2.reshape(1, 400, 400, 1)\n",
    "Y_2 = Y_2.reshape(1, 400, 400, 2)"
   ]
  },
  {
   "cell_type": "code",
   "execution_count": 20,
   "metadata": {},
   "outputs": [
    {
     "name": "stderr",
     "output_type": "stream",
     "text": [
      "D:\\Anaconda3\\envs\\tensorFlow\\lib\\site-packages\\skimage\\util\\dtype.py:122: UserWarning: Possible precision loss when converting from float64 to uint8\n",
      "  .format(dtypeobj_in, dtypeobj_out))\n",
      "D:\\Anaconda3\\envs\\tensorFlow\\lib\\site-packages\\skimage\\util\\dtype.py:122: UserWarning: Possible precision loss when converting from float64 to uint16\n",
      "  .format(dtypeobj_in, dtypeobj_out))\n"
     ]
    }
   ],
   "source": [
    "\n",
    "output = model.predict(X_2)\n",
    "output *= 128\n",
    "# Output colorizations\n",
    "cur = np.zeros((400, 400, 3))\n",
    "cur[:,:,0] = X_2[0][:,:,0]\n",
    "cur[:,:,1:] = output[0]\n",
    "#imsave(\"img_result_2.png\", lab2rgb(cur))\n",
    "#imsave(\"img_gray_version_2.png\", rgb2gray(lab2rgb(cur)))"
   ]
  },
  {
   "cell_type": "code",
   "execution_count": 21,
   "metadata": {},
   "outputs": [
    {
     "name": "stderr",
     "output_type": "stream",
     "text": [
      "D:\\Anaconda3\\envs\\tensorFlow\\lib\\site-packages\\skimage\\transform\\_warps.py:84: UserWarning: The default mode, 'constant', will be changed to 'reflect' in skimage 0.15.\n",
      "  warn(\"The default mode, 'constant', will be changed to 'reflect' in \"\n",
      "D:\\Anaconda3\\envs\\tensorFlow\\lib\\site-packages\\skimage\\util\\dtype.py:122: UserWarning: Possible precision loss when converting from float64 to uint8\n",
      "  .format(dtypeobj_in, dtypeobj_out))\n",
      "D:\\Anaconda3\\envs\\tensorFlow\\lib\\site-packages\\skimage\\util\\dtype.py:122: UserWarning: Possible precision loss when converting from float64 to uint16\n",
      "  .format(dtypeobj_in, dtypeobj_out))\n"
     ]
    }
   ],
   "source": [
    "#把维度拉回来\n",
    "dst=transform.resize(cur, (ll_1, ll_2))\n",
    "imsave(\"img_result_3.png\", lab2rgb(dst))\n",
    "imsave(\"img_gray_version_3.png\", rgb2gray(lab2rgb(dst)))"
   ]
  },
  {
   "cell_type": "code",
   "execution_count": null,
   "metadata": {},
   "outputs": [],
   "source": []
  }
 ],
 "metadata": {
  "kernelspec": {
   "display_name": "Python 3",
   "language": "python",
   "name": "python3"
  },
  "language_info": {
   "codemirror_mode": {
    "name": "ipython",
    "version": 3
   },
   "file_extension": ".py",
   "mimetype": "text/x-python",
   "name": "python",
   "nbconvert_exporter": "python",
   "pygments_lexer": "ipython3",
   "version": "3.5.5"
  }
 },
 "nbformat": 4,
 "nbformat_minor": 2
}
